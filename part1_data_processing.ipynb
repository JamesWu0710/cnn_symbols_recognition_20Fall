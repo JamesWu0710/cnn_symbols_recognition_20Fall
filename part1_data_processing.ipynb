{
  "nbformat": 4,
  "nbformat_minor": 0,
  "metadata": {
    "colab": {
      "name": "data_processing.ipynb",
      "provenance": [],
      "collapsed_sections": []
    },
    "kernelspec": {
      "display_name": "Python 3",
      "language": "python",
      "name": "python3"
    },
    "language_info": {
      "codemirror_mode": {
        "name": "ipython",
        "version": 3
      },
      "file_extension": ".py",
      "mimetype": "text/x-python",
      "name": "python",
      "nbconvert_exporter": "python",
      "pygments_lexer": "ipython3",
      "version": "3.7.3"
    }
  },
  "cells": [
    {
      "cell_type": "markdown",
      "metadata": {
        "id": "RkksTI4dMRw6"
      },
      "source": [
        "### **Part 1: Data Processing**\n",
        "\n",
        "This notebook presents the steps to deal with the original dataset.\n",
        "We will go through the original dataset as well as integrating into the trainable forms such as pytorch dataset storage. This noteboook has several sections:\n",
        "\n",
        "\n",
        "1.   Data overview\n",
        "2.   Data processing steps\n",
        "3.   Data integration and flexible storage\n",
        "\n",
        "\n",
        "The subsequent processing and the model training processes can be found in another notebook along with the team's submission.\n",
        "\n",
        "Note: due to the limited storage of NYU Classes, to achieve high-efficiency submission, we are not going to submit the datasets (raw and processes) online.\n",
        "\n",
        "To get access to the original dataset, please visit https://www.kaggle.com/xainano/handwrittenmathsymbols."
      ]
    },
    {
      "cell_type": "markdown",
      "metadata": {
        "id": "SL_2TCulOVws"
      },
      "source": [
        "## Data overview\n",
        "\n",
        "We start overviewing the data. We first load the required packages:\n",
        "\n",
        "\n",
        "1.   `os`: a standard module for operating system-related operations.\n",
        "2.   `random`: introduces randomness.\n",
        "3.   `collections`: allows statistical view of the data.\n",
        "4.   `matplotlib.pyplot`: a standard module for data visualization.\n",
        "\n",
        "Variable declaration:\n",
        "\n",
        "\n",
        "*   opd: the parent directory of the dataset\n",
        "*   all_cats: list of all the categories\n",
        "*   all_dicts: count the appearance of each category\n",
        "\n",
        "Function declaration:\n",
        "\n",
        "*   `idx_label`: transform between index (integer, 0~81) and category name (string).\n",
        "*   `load_data(opd)`: process the original data into the following format: (picture_directory, label).\n",
        "\n"
      ]
    },
    {
      "cell_type": "code",
      "metadata": {
        "id": "m5IIwFXtMRw7",
        "outputId": "aa68dfc4-6fd1-4db9-cc91-f7ea6dc10858"
      },
      "source": [
        "# Data Overview\n",
        "import os\n",
        "import random\n",
        "import collections\n",
        "import matplotlib.pyplot as plt\n",
        "\n",
        "\n",
        "\n",
        "opd = 'extracted_images'\n",
        "all_cats = [label for label in os.listdir(opd)]\n",
        "all_dicts = {i:0 for i in all_cats}\n",
        "print('Total number of categories: ', len(all_cats))\n",
        "\n",
        "# Utility function\n",
        "def idx_label(target):\n",
        "    if target in all_cats:\n",
        "        return all_cats.index(target)\n",
        "    else:\n",
        "        return all_cats[target]\n",
        "\n",
        "def load_data(opd):\n",
        "    selection = list()\n",
        "    for label in os.listdir(opd):\n",
        "        selection += [(pic_dir, idx_label(label)) for pic_dir in os.listdir(os.path.join(opd, label))]\n",
        "    return selection\n",
        "\n",
        "\n",
        "for label in os.listdir(opd):\n",
        "    a, b, selection = [], [], []\n",
        "    for pic_dir in os.listdir(os.path.join(opd, label)):\n",
        "        all_dicts[label] += 1"
      ],
      "execution_count": null,
      "outputs": [
        {
          "output_type": "stream",
          "text": [
            "Total number of categories:  82\n"
          ],
          "name": "stdout"
        }
      ]
    },
    {
      "cell_type": "markdown",
      "metadata": {
        "id": "TstXpXyqUUVv"
      },
      "source": [
        "We plot the bar chart to see the distribution of the categories."
      ]
    },
    {
      "cell_type": "code",
      "metadata": {
        "id": "OrOx9u4iMRw7",
        "outputId": "63102c0a-e1f7-48ce-802a-195026ed4471"
      },
      "source": [
        "plt.bar(range(82), [all_dicts.get(xtick, 0) for xtick in all_cats], align='center',yerr=0.000001)\n",
        "plt.xlabel('Category Index')\n",
        "plt.ylabel('Occurrence')\n",
        "plt.title(\"Data Overview\")\n",
        "plt.show()"
      ],
      "execution_count": null,
      "outputs": [
        {
          "output_type": "display_data",
          "data": {
            "image/png": "[encoded data removed]",
            "text/plain": [
              "<Figure size 432x288 with 1 Axes>"
            ]
          },
          "metadata": {
            "tags": [],
            "needs_background": "light"
          }
        }
      ]
    },
    {
      "cell_type": "markdown",
      "metadata": {
        "id": "sm8TUeBjUsO6"
      },
      "source": [
        "## Splitting Data\n",
        "\n",
        "We mainly use the module `splitfolders` to split the data. We choose the splitting ratio to be 60%, 20%, 20%."
      ]
    },
    {
      "cell_type": "code",
      "metadata": {
        "id": "SChsuQRnMRw9",
        "outputId": "fb7ed821-4d5b-423d-9793-90aec4c9762c"
      },
      "source": [
        "# Now we want to split into train, test and cross validation set.\n",
        "import os\n",
        "import numpy as np\n",
        "import torch\n",
        "import torchvision\n",
        "from PIL import Image\n",
        "\n",
        "!pip install split_folders\n",
        "import splitfolders\n",
        "\n",
        "# Splitting Folder\n",
        "\n",
        "def seed_everything(seed):\n",
        "    os.environ['PYTHONHASHSEED'] = str(seed)\n",
        "    np.random.seed(seed)\n",
        "    torch.manual_seed(seed)\n",
        "    torch.cuda.manual_seed(seed)\n",
        "    torch.backends.cudnn.deterministic = True    \n",
        "\n",
        "OUTPUT_PATH = \"images_split\"    \n",
        "    \n",
        "\n",
        "SEED = 45\n",
        "seed_everything(SEED)\n",
        "splitfolders.ratio('extracted_images', output=OUTPUT_PATH, seed=SEED, ratio=(.6, .2, .2))"
      ],
      "execution_count": null,
      "outputs": [
        {
          "output_type": "stream",
          "text": [
            "Copying files: 6 files [00:00, 58.04 files/s]"
          ],
          "name": "stderr"
        },
        {
          "output_type": "stream",
          "text": [
            "Requirement already satisfied: split_folders in c:\\users\\21130\\appdata\\local\\programs\\python\\python37\\lib\\site-packages (0.4.3)\n"
          ],
          "name": "stdout"
        },
        {
          "output_type": "stream",
          "text": [
            "Copying files: 375974 files [43:26, 144.27 files/s]\n"
          ],
          "name": "stderr"
        }
      ]
    },
    {
      "cell_type": "markdown",
      "metadata": {
        "id": "AQp3M2ibV-g9"
      },
      "source": [
        "## Dataset Class Inheritance\n",
        "\n",
        "We create the `SymbolData` class to store the data. To store the data into tensor form, we define a method of `load_picture` to process the data into tensors after normalization steps.\n",
        "\n",
        "Also, to beautify the form of data, we call `SymbolData.process()` to store all the data into the required form: a tuple containing tensor and its corresponding category."
      ]
    },
    {
      "cell_type": "code",
      "metadata": {
        "id": "EuZfpA5SMRw-"
      },
      "source": [
        "from torch.utils.data import Dataset, DataLoader\n",
        "\n",
        "class SymbolData(Dataset):\n",
        "    def __init__(self, inputs, dataset_type, opd, transform=None):\n",
        "        self.all_data = inputs\n",
        "        self.dataset_type = dataset_type\n",
        "        self.opd = opd\n",
        "        self.all_tensors = []\n",
        "        self.labels = [i[1] for i in self.all_data]\n",
        "\n",
        "    def load_picture(self, file_name):\n",
        "        loader = torchvision.transforms.Compose([\n",
        "            torchvision.transforms.ToTensor(),torchvision.transforms.Normalize(mean=(0.5,), std=(0.5,))])\n",
        "        image = Image.open(file_name)\n",
        "        image = loader(image).unsqueeze(0)\n",
        "        return image.to(torch.float)\n",
        "    \n",
        "    def process(self):\n",
        "        self.all_tensors = [self.load_picture(os.path.join(self.opd, idx_label(i[1]), i[0])) for i in self.all_data]\n",
        "\n",
        "    def __getitem__(self, index):\n",
        "        pic_tensor = self.all_tensors[index]\n",
        "        label = self.all_data[index][1]\n",
        "        return pic_tensor, label\n",
        "    \n",
        "    def __len__(self):\n",
        "        return len(self.all_data)"
      ],
      "execution_count": null,
      "outputs": []
    },
    {
      "cell_type": "markdown",
      "metadata": {
        "id": "RYFtxOycXMLR"
      },
      "source": [
        "## Process the Data\n",
        "We treat the training, testing and validation dataset respectively into the required form of SymbolData object."
      ]
    },
    {
      "cell_type": "code",
      "metadata": {
        "id": "SWiPd3MGMRw-",
        "outputId": "846a80e4-72c6-4a36-f11c-874214eb4d92"
      },
      "source": [
        "par = OUTPUT_PATH\n",
        "\n",
        "\n",
        "train_path = os.path.join(par, 'train')\n",
        "test_path = os.path.join(par,'test')\n",
        "cv_path = os.path.join(par, 'val')\n",
        "\n",
        "print(len(load_data(train_path)), len(load_data(test_path)), len(load_data(cv_path)))\n",
        "\n",
        "\n",
        "tp = os.path.join(par, 'train')\n",
        "ttp = os.path.join(par, 'test')\n",
        "vp = os.path.join(par, 'val')\n",
        "\n",
        "train_data = SymbolData(load_data(train_path), 'train', train_path)\n",
        "test_data = SymbolData(load_data(test_path), 'test', test_path)\n",
        "val_data = SymbolData(load_data(cv_path), 'val', cv_path)\n",
        "\n",
        "train_data.process()\n",
        "test_data.process()\n",
        "val_data.process()\n",
        "\n",
        "print('Data Processing Completed.')"
      ],
      "execution_count": null,
      "outputs": [
        {
          "output_type": "stream",
          "text": [
            "225552 75261 75161\n",
            "Data Processing Completed.\n"
          ],
          "name": "stdout"
        }
      ]
    },
    {
      "cell_type": "markdown",
      "metadata": {
        "id": "ibRLdW2hXrdj"
      },
      "source": [
        "## Storing Data\n",
        "\n",
        "After processing the data into required form, we save the model locally into a single dataset using pickle. For further usage, we will upload the .pkl file to Google Drive and implement the whole project structure based on that dataset."
      ]
    },
    {
      "cell_type": "code",
      "metadata": {
        "id": "pr9nJ3FgMRw_",
        "outputId": "e43cab06-cf75-4d98-ae49-512e969c85a8"
      },
      "source": [
        "import pickle\n",
        "SAVE_PATH = 'processed'\n",
        "\n",
        "\n",
        "file_object = open(os.path.join(SAVE_PATH, 'final_data'), 'wb')\n",
        "pickle.dump(all_cats, file_object)\n",
        "pickle.dump(train_data, file_object)\n",
        "pickle.dump(test_data, file_object)\n",
        "pickle.dump(val_data, file_object)\n",
        "file_object.close()\n",
        "print('Data Storage Completed.')"
      ],
      "execution_count": null,
      "outputs": [
        {
          "output_type": "stream",
          "text": [
            "Data Storage Completed.\n"
          ],
          "name": "stdout"
        }
      ]
    },
    {
      "cell_type": "markdown",
      "metadata": {
        "id": "C0JTryhYYIeH"
      },
      "source": [
        "## Conclusion\n",
        "In this part, we have successfully stored the data into neat forms and make it usable for future works.\n",
        "\n",
        "For the details of how the team utilizes data and perform the CNN algorithm for the task, please see another notebook, `ml_project.ipynb`. Also, more details about the data processing part can be found in the final report."
      ]
    }
  ]
}